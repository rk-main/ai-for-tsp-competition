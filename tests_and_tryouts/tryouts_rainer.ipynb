{
 "cells": [
  {
   "cell_type": "code",
   "execution_count": 1,
   "metadata": {
    "collapsed": true
   },
   "outputs": [
    {
     "name": "stdout",
     "output_type": "stream",
     "text": [
      "hello world\n",
      "return of 'step': total_time, time, prize, penalty, feasible, violation, done\n"
     ]
    }
   ],
   "source": [
    "from env_rl import EnvRL\n",
    "print(\"hello world\")\n",
    "print(\"return of 'step': total_time, time, prize, penalty, feasible, violation, done.\")\n"
   ]
  },
  {
   "cell_type": "code",
   "execution_count": 2,
   "outputs": [
    {
     "name": "stdout",
     "output_type": "stream",
     "text": [
      "[1 47.0 15.0 0 464 0.0 249]\n",
      "1234\n",
      "tour001\n",
      "\n",
      "features:\n",
      "keys: #node, x-coordinate, y-coordinate, tw-start, tw-end, prize, max tour time\n",
      "instance\n",
      "[[1 47.0 15.0 0 464 0.0 249]\n",
      " [2 38.0 49.0 30 61 0.33 249]\n",
      " [3 53.0 23.0 172 226 0.1 249]\n",
      " [4 116.0 41.0 91 182 0.7 249]\n",
      " [5 152.0 26.0 248 354 1.0 249]]\n",
      "max travel times\n",
      "[[0 35 10 74 106]\n",
      " [35 0 30 78 116]\n",
      " [10 30 0 66 99]\n",
      " [74 78 66 0 39]\n",
      " [106 116 99 39 0]]\n"
     ]
    }
   ],
   "source": [
    "env = EnvRL(n_nodes=5, seed=1234)\n",
    "inst, max_travel_times = env.get_features()\n",
    "print(env.get_current_node_features())\n",
    "print(env.get_seed())\n",
    "print(env.get_sim_name())\n",
    "print(env.get_instance_name())\n",
    "\n",
    "print(\"features:\")\n",
    "print(\"keys: #node, x-coordinate, y-coordinate, tw-start, tw-end, prize, max tour time.\")\n",
    "print(f'instance')\n",
    "print(inst)\n",
    "print('max travel times')\n",
    "print(max_travel_times)"
   ],
   "metadata": {
    "collapsed": false,
    "pycharm": {
     "name": "#%%\n"
    }
   }
  },
  {
   "cell_type": "code",
   "execution_count": 3,
   "outputs": [
    {
     "data": {
      "text/plain": "(30.0, 30.0, 0.33, 0, True, 0, False)"
     },
     "execution_count": 3,
     "metadata": {},
     "output_type": "execute_result"
    }
   ],
   "source": [
    "env.step(2)"
   ],
   "metadata": {
    "collapsed": false,
    "pycharm": {
     "name": "#%%\n"
    }
   }
  },
  {
   "cell_type": "code",
   "execution_count": 4,
   "outputs": [
    {
     "data": {
      "text/plain": "(91.0, 61.0, 0.7, 0, True, 0, False)"
     },
     "execution_count": 4,
     "metadata": {},
     "output_type": "execute_result"
    }
   ],
   "source": [
    "env.step(4)"
   ],
   "metadata": {
    "collapsed": false,
    "pycharm": {
     "name": "#%%\n"
    }
   }
  },
  {
   "cell_type": "code",
   "execution_count": 5,
   "outputs": [
    {
     "data": {
      "text/plain": "(248.0, 157.0, 1.0, 0, True, 0, False)"
     },
     "execution_count": 5,
     "metadata": {},
     "output_type": "execute_result"
    }
   ],
   "source": [
    "env.step(5)"
   ],
   "metadata": {
    "collapsed": false,
    "pycharm": {
     "name": "#%%\n"
    }
   }
  },
  {
   "cell_type": "code",
   "execution_count": 7,
   "outputs": [
    {
     "name": "stdout",
     "output_type": "stream",
     "text": [
      "[1, 2, 4, 5]\n"
     ]
    }
   ],
   "source": [
    "print(env.tour)"
   ],
   "metadata": {
    "collapsed": false,
    "pycharm": {
     "name": "#%%\n"
    }
   }
  },
  {
   "cell_type": "code",
   "execution_count": 9,
   "outputs": [
    {
     "data": {
      "text/plain": "(249.06, 1.0600000000000023, 0.0, -5.0, False, 2, True)"
     },
     "execution_count": 9,
     "metadata": {},
     "output_type": "execute_result"
    }
   ],
   "source": [
    "env.step(1)"
   ],
   "metadata": {
    "collapsed": false,
    "pycharm": {
     "name": "#%%\n"
    }
   }
  },
  {
   "cell_type": "code",
   "execution_count": null,
   "outputs": [],
   "source": [],
   "metadata": {
    "collapsed": false,
    "pycharm": {
     "name": "#%%\n"
    }
   }
  }
 ],
 "metadata": {
  "kernelspec": {
   "name": "pycharm-1b7af3d8",
   "language": "python",
   "display_name": "PyCharm (ai-for-tsp-competition)"
  },
  "language_info": {
   "codemirror_mode": {
    "name": "ipython",
    "version": 2
   },
   "file_extension": ".py",
   "mimetype": "text/x-python",
   "name": "python",
   "nbconvert_exporter": "python",
   "pygments_lexer": "ipython2",
   "version": "2.7.6"
  }
 },
 "nbformat": 4,
 "nbformat_minor": 0
}